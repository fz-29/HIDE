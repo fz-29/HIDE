{
 "cells": [
  {
   "cell_type": "code",
   "execution_count": 1,
   "metadata": {
    "collapsed": true
   },
   "outputs": [],
   "source": [
    "import numpy as np"
   ]
  },
  {
   "cell_type": "code",
   "execution_count": 17,
   "metadata": {
    "collapsed": false
   },
   "outputs": [],
   "source": [
    "def getans(arr1,arr2):\n",
    "    count = len(arr1)\n",
    "    arr2.sort()\n",
    "    start_index = 0\n",
    "    end_index = len(arr2)-1\n",
    "    last_start = 0\n",
    "    while start_index<=end_index:\n",
    "        if arr2[end_index]*(start_index+1-last_start)>=50:\n",
    "            count+=1\n",
    "            last_start = start_index\n",
    "            start_index+=1\n",
    "            end_index-=1\n",
    "        else:\n",
    "            start_index+=1\n",
    "    return count"
   ]
  },
  {
   "cell_type": "code",
   "execution_count": 23,
   "metadata": {
    "collapsed": false
   },
   "outputs": [],
   "source": [
    "f = open('lazy_loading.txt','r')\n",
    "f2 = open('output1.txt','w+')\n",
    "num_cases = f.readline()\n",
    "for ix in range(int(num_cases)):\n",
    "    n = f.readline()\n",
    "    arr_1 = []\n",
    "    arr_2 = []\n",
    "    count = 0\n",
    "    for k in range(int(n)):\n",
    "        t = f.readline()\n",
    "        val = int(t)\n",
    "        if val>=50:\n",
    "            arr_1.append(val)\n",
    "        else:\n",
    "            arr_2.append(val)\n",
    "    #print arr_1, arr_2\n",
    "    count = getans(arr_1,arr_2)\n",
    "    name = \"Case #\"+str(ix+1)+\": \"+str(count)\n",
    "    f2.write(name)\n",
    "    f2.write(\"\\n\")\n",
    "f2.close()"
   ]
  },
  {
   "cell_type": "code",
   "execution_count": 19,
   "metadata": {
    "collapsed": false
   },
   "outputs": [
    {
     "name": "stdout",
     "output_type": "stream",
     "text": [
      "5\n"
     ]
    }
   ],
   "source": []
  },
  {
   "cell_type": "code",
   "execution_count": null,
   "metadata": {
    "collapsed": true
   },
   "outputs": [],
   "source": []
  }
 ],
 "metadata": {
  "kernelspec": {
   "display_name": "Python 2",
   "language": "python",
   "name": "python2"
  },
  "language_info": {
   "codemirror_mode": {
    "name": "ipython",
    "version": 2
   },
   "file_extension": ".py",
   "mimetype": "text/x-python",
   "name": "python",
   "nbconvert_exporter": "python",
   "pygments_lexer": "ipython2",
   "version": "2.7.12"
  }
 },
 "nbformat": 4,
 "nbformat_minor": 1
}
