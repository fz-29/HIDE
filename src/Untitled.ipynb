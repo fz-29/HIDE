{
 "cells": [
  {
   "cell_type": "code",
   "execution_count": 1,
   "metadata": {
    "collapsed": true
   },
   "outputs": [],
   "source": [
    "import numpy as np"
   ]
  },
  {
   "cell_type": "code",
   "execution_count": 10,
   "metadata": {
    "collapsed": false
   },
   "outputs": [
    {
     "name": "stdout",
     "output_type": "stream",
     "text": [
      "2 2\n",
      "['2d4', '1d8']\n",
      "['2', '4']\n",
      "['1', '8']\n"
     ]
    }
   ],
   "source": [
    "f = open('fighting_the_zombie_example_input.txt','r')\n",
    "num_cases = f.readline()\n",
    "k = f.readline()\n",
    "h,s = k.split()\n",
    "n = f.readline()\n",
    "print int(h),int(s)\n",
    "print n.split()\n",
    "for k in n.split():"
   ]
  },
  {
   "cell_type": "code",
   "execution_count": 15,
   "metadata": {
    "collapsed": false
   },
   "outputs": [
    {
     "name": "stdout",
     "output_type": "stream",
     "text": [
      "2d4\n",
      "1d8\n",
      "\n",
      "\n",
      "10d6-10\n",
      "1d6+1\n",
      "\n",
      "\n",
      "1d4+4\n",
      "2d4\n",
      "3d4-4\n",
      "\n",
      "\n",
      "10d4\n",
      "5d8\n",
      "2d20\n",
      "\n",
      "\n",
      "1d10\n",
      "1d10+1\n",
      "1d10+2\n",
      "1d10+3\n",
      "\n",
      "\n"
     ]
    }
   ],
   "source": [
    "f = open('fighting_the_zombie_example_input.txt')\n",
    "num_cases = int(f.readline())\n",
    "for ix in range(num_cases):\n",
    "    k = f.readline()\n",
    "    h,s = k.split()\n",
    "    m = f.readline()\n",
    "    t = m.split()\n",
    "    for n in t:\n",
    "        print n\n",
    "    print \"\\n\""
   ]
  },
  {
   "cell_type": "code",
   "execution_count": null,
   "metadata": {
    "collapsed": true
   },
   "outputs": [],
   "source": []
  }
 ],
 "metadata": {
  "kernelspec": {
   "display_name": "Python 2",
   "language": "python",
   "name": "python2"
  },
  "language_info": {
   "codemirror_mode": {
    "name": "ipython",
    "version": 2
   },
   "file_extension": ".py",
   "mimetype": "text/x-python",
   "name": "python",
   "nbconvert_exporter": "python",
   "pygments_lexer": "ipython2",
   "version": "2.7.12"
  }
 },
 "nbformat": 4,
 "nbformat_minor": 1
}
